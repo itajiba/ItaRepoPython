{
 "cells": [
  {
   "cell_type": "code",
   "execution_count": 1,
   "metadata": {},
   "outputs": [],
   "source": [
    "from datetime import datetime\n",
    "from elasticsearch import Elasticsearch"
   ]
  },
  {
   "cell_type": "code",
   "execution_count": 2,
   "metadata": {},
   "outputs": [],
   "source": [
    "# Create an Elasticsearch client\n",
    "client = Elasticsearch(\"http://localhost:9200\")"
   ]
  },
  {
   "cell_type": "code",
   "execution_count": 3,
   "metadata": {},
   "outputs": [
    {
     "data": {
      "text/plain": [
       "ObjectApiResponse({'_index': 'test-index', '_id': '1', '_version': 1, 'result': 'created', '_shards': {'total': 2, 'successful': 1, 'failed': 0}, '_seq_no': 0, '_primary_term': 1})"
      ]
     },
     "execution_count": 3,
     "metadata": {},
     "output_type": "execute_result"
    }
   ],
   "source": [
    "# Index a sample document\n",
    "doc = {\n",
    "    \"author\": \"john_doe\",\n",
    "    \"text\": \"Elasticsearch is a powerful search engine.\",\n",
    "    \"timestamp\": datetime.now(),\n",
    "}\n",
    "client.index(index=\"test-index\", id=1, document=doc)\n"
   ]
  },
  {
   "cell_type": "code",
   "execution_count": 4,
   "metadata": {},
   "outputs": [],
   "source": [
    "\n",
    "# Refresh the index to make the document searchable\n",
    "client.indices.refresh(index=\"test-index\")\n",
    "\n",
    "# Search for the document\n",
    "response = client.search(index=\"test-index\", query={\"match\": {\"text\": \"powerful\"}})"
   ]
  },
  {
   "cell_type": "code",
   "execution_count": 5,
   "metadata": {},
   "outputs": [
    {
     "name": "stdout",
     "output_type": "stream",
     "text": [
      "Got 1 Hits:\n",
      "2024-09-26T16:01:58.405278 john_doe: Elasticsearch is a powerful search engine.\n"
     ]
    }
   ],
   "source": [
    "# Print the search results\n",
    "print(\"Got %d Hits:\" % response['hits']['total']['value'])\n",
    "for hit in response['hits']['hits']:\n",
    "    print(\"%(timestamp)s %(author)s: %(text)s\" % hit[\"_source\"])"
   ]
  },
  {
   "cell_type": "code",
   "execution_count": 6,
   "metadata": {},
   "outputs": [],
   "source": [
    "# Perform a compound search query\n",
    "query = {\n",
    "    \"bool\": {\n",
    "        \"must\": [\n",
    "            {\"match\": {\"text\": \"powerful\"}},\n",
    "            {\"match\": {\"author\": \"john_doe\"}}\n",
    "        ],\n",
    "        \"filter\": [\n",
    "            {\"range\": {\"timestamp\": {\"gte\": \"2024-01-01\"}}}\n",
    "        ]\n",
    "    }\n",
    "}\n"
   ]
  },
  {
   "cell_type": "code",
   "execution_count": 7,
   "metadata": {},
   "outputs": [],
   "source": [
    "response = client.search(index=\"test-index\", query=query)"
   ]
  },
  {
   "cell_type": "code",
   "execution_count": 8,
   "metadata": {},
   "outputs": [
    {
     "name": "stdout",
     "output_type": "stream",
     "text": [
      "Got 1 Hits:\n",
      "2024-09-26T16:01:58.405278 john_doe: Elasticsearch is a powerful search engine.\n"
     ]
    }
   ],
   "source": [
    "# Print the search results\n",
    "print(\"Got %d Hits:\" % response['hits']['total']['value'])\n",
    "for hit in response['hits']['hits']:\n",
    "    print(\"%(timestamp)s %(author)s: %(text)s\" % hit[\"_source\"])\n"
   ]
  },
  {
   "cell_type": "code",
   "execution_count": null,
   "metadata": {},
   "outputs": [],
   "source": []
  }
 ],
 "metadata": {
  "kernelspec": {
   "display_name": "Python 3",
   "language": "python",
   "name": "python3"
  },
  "language_info": {
   "codemirror_mode": {
    "name": "ipython",
    "version": 3
   },
   "file_extension": ".py",
   "mimetype": "text/x-python",
   "name": "python",
   "nbconvert_exporter": "python",
   "pygments_lexer": "ipython3",
   "version": "3.8.10"
  }
 },
 "nbformat": 4,
 "nbformat_minor": 2
}
