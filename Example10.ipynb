{
 "cells": [
  {
   "cell_type": "markdown",
   "metadata": {},
   "source": [
    "## 🧪 Example: Simple Kafka Producer with Message Counting"
   ]
  },
  {
   "cell_type": "code",
   "execution_count": 2,
   "metadata": {},
   "outputs": [],
   "source": [
    "\n",
    "from confluent_kafka import Producer\n",
    "import time\n",
    "import threading\n"
   ]
  },
  {
   "cell_type": "code",
   "execution_count": 4,
   "metadata": {},
   "outputs": [],
   "source": [
    "\n",
    "class CountingProducer:\n",
    "    def __init__(self, config, window_seconds=10):\n",
    "        self.producer = Producer(config)\n",
    "        self.sent_count = 0\n",
    "        self.ack_count = 0\n",
    "        self.lock = threading.Lock()\n",
    "        self.window_seconds = window_seconds\n",
    "        self._start_window_timer()\n",
    "\n",
    "    def _start_window_timer(self):\n",
    "        def reset_counts():\n",
    "            while True:\n",
    "                time.sleep(self.window_seconds)\n",
    "                with self.lock:\n",
    "                    print(f\"[{time.strftime('%X')}] Sent: {self.sent_count}, Acks: {self.ack_count}\")\n",
    "                    self.sent_count = 0\n",
    "                    self.ack_count = 0\n",
    "        threading.Thread(target=reset_counts, daemon=True).start()\n",
    "\n",
    "    def _delivery_report(self, err, msg):\n",
    "        with self.lock:\n",
    "            if err is None:\n",
    "                self.ack_count += 1\n",
    "            else:\n",
    "                print(f\"Delivery failed: {err}\")\n",
    "\n",
    "    def produce(self, topic, value, key=None):\n",
    "        with self.lock:\n",
    "            self.sent_count += 1\n",
    "        self.producer.produce(topic=topic, value=value, key=key, callback=self._delivery_report)\n",
    "        self.producer.poll(0)\n",
    "\n",
    "    def flush(self):\n",
    "        self.producer.flush()\n"
   ]
  },
  {
   "cell_type": "markdown",
   "metadata": {},
   "source": [
    "### Example usage\n"
   ]
  },
  {
   "cell_type": "code",
   "execution_count": 5,
   "metadata": {},
   "outputs": [
    {
     "name": "stdout",
     "output_type": "stream",
     "text": [
      "[13:27:17] Sent: 100, Acks: 99\n"
     ]
    },
    {
     "name": "stdout",
     "output_type": "stream",
     "text": [
      "[13:27:27] Sent: 0, Acks: 1\n",
      "[13:27:37] Sent: 0, Acks: 0\n",
      "[13:27:47] Sent: 0, Acks: 0\n",
      "[13:27:57] Sent: 0, Acks: 0\n",
      "[13:28:07] Sent: 0, Acks: 0\n",
      "[13:28:17] Sent: 0, Acks: 0\n",
      "[13:28:27] Sent: 0, Acks: 0\n"
     ]
    }
   ],
   "source": [
    "\n",
    "if __name__ == \"__main__\":\n",
    "    config = {\n",
    "        'bootstrap.servers': '10.222.68.223:9092'\n",
    "    }\n",
    "\n",
    "    cp = CountingProducer(config, window_seconds=10)\n",
    "\n",
    "    for i in range(100):\n",
    "        cp.produce('test-topic', value=f'message-{i}')\n",
    "        time.sleep(0.1)  # simulate delay between messages\n",
    "\n",
    "    cp.flush()\n"
   ]
  }
 ],
 "metadata": {
  "kernelspec": {
   "display_name": "Python 3",
   "language": "python",
   "name": "python3"
  },
  "language_info": {
   "codemirror_mode": {
    "name": "ipython",
    "version": 3
   },
   "file_extension": ".py",
   "mimetype": "text/x-python",
   "name": "python",
   "nbconvert_exporter": "python",
   "pygments_lexer": "ipython3",
   "version": "3.8.10"
  }
 },
 "nbformat": 4,
 "nbformat_minor": 2
}
