{
 "cells": [
  {
   "cell_type": "code",
   "execution_count": 1,
   "metadata": {},
   "outputs": [],
   "source": [
    "from confluent_kafka import Producer, KafkaException\n",
    "import mmh3\n",
    "\n",
    "def banana_partitioner(key, partitions):\n",
    "    if key is None or not isinstance(key, str):\n",
    "        raise KafkaException(\"We expect all messages to have customer name as key\")\n",
    "\n",
    "    num_partitions = len(partitions)\n",
    "    if key == \"Banana\":\n",
    "        return partitions[-1]  # Banana will always go to the last partition\n",
    "\n",
    "    # Other records will get hashed to the rest of the partitions\n",
    "    return partitions[abs(mmh3.hash(key)) % (num_partitions - 1)]\n",
    "\n",
    "# Example usage\n",
    "conf = {\n",
    "    'bootstrap.servers': '10.222.68.223:9092'\n",
    "}\n",
    "\n",
    "producer = Producer(conf)"
   ]
  },
  {
   "cell_type": "code",
   "execution_count": 2,
   "metadata": {},
   "outputs": [],
   "source": [
    "def delivery_report(err, msg):\n",
    "    if err is not None:\n",
    "        print('Message delivery failed: {}'.format(err))\n",
    "    else:\n",
    "        print('Message delivered to {} [{}]'.format(msg.topic(), msg.partition()))\n",
    "\n",
    "# Produce messages with custom partitioning logic\n",
    "def produce_message(topic, key, value):\n",
    "    partitions = producer.list_topics().topics[topic].partitions.keys()\n",
    "    partition = banana_partitioner(key, list(partitions))\n",
    "    producer.produce(topic, key=key, value=value, partition=partition, callback=delivery_report)"
   ]
  },
  {
   "cell_type": "code",
   "execution_count": 3,
   "metadata": {},
   "outputs": [
    {
     "ename": "KeyError",
     "evalue": "'my_topic'",
     "output_type": "error",
     "traceback": [
      "\u001b[1;31m---------------------------------------------------------------------------\u001b[0m",
      "\u001b[1;31mKeyError\u001b[0m                                  Traceback (most recent call last)",
      "Cell \u001b[1;32mIn[3], line 1\u001b[0m\n\u001b[1;32m----> 1\u001b[0m \u001b[43mproduce_message\u001b[49m\u001b[43m(\u001b[49m\u001b[38;5;124;43m'\u001b[39;49m\u001b[38;5;124;43mmy_topic\u001b[39;49m\u001b[38;5;124;43m'\u001b[39;49m\u001b[43m,\u001b[49m\u001b[43m \u001b[49m\u001b[38;5;124;43m'\u001b[39;49m\u001b[38;5;124;43mBanana\u001b[39;49m\u001b[38;5;124;43m'\u001b[39;49m\u001b[43m,\u001b[49m\u001b[43m \u001b[49m\u001b[38;5;124;43m'\u001b[39;49m\u001b[38;5;124;43mBanana message\u001b[39;49m\u001b[38;5;124;43m'\u001b[39;49m\u001b[43m)\u001b[49m\n",
      "Cell \u001b[1;32mIn[2], line 9\u001b[0m, in \u001b[0;36mproduce_message\u001b[1;34m(topic, key, value)\u001b[0m\n\u001b[0;32m      8\u001b[0m \u001b[38;5;28;01mdef\u001b[39;00m \u001b[38;5;21mproduce_message\u001b[39m(topic, key, value):\n\u001b[1;32m----> 9\u001b[0m     partitions \u001b[38;5;241m=\u001b[39m \u001b[43mproducer\u001b[49m\u001b[38;5;241;43m.\u001b[39;49m\u001b[43mlist_topics\u001b[49m\u001b[43m(\u001b[49m\u001b[43m)\u001b[49m\u001b[38;5;241;43m.\u001b[39;49m\u001b[43mtopics\u001b[49m\u001b[43m[\u001b[49m\u001b[43mtopic\u001b[49m\u001b[43m]\u001b[49m\u001b[38;5;241m.\u001b[39mpartitions\u001b[38;5;241m.\u001b[39mkeys()\n\u001b[0;32m     10\u001b[0m     partition \u001b[38;5;241m=\u001b[39m banana_partitioner(key, \u001b[38;5;28mlist\u001b[39m(partitions))\n\u001b[0;32m     11\u001b[0m     producer\u001b[38;5;241m.\u001b[39mproduce(topic, key\u001b[38;5;241m=\u001b[39mkey, value\u001b[38;5;241m=\u001b[39mvalue, partition\u001b[38;5;241m=\u001b[39mpartition, callback\u001b[38;5;241m=\u001b[39mdelivery_report)\n",
      "\u001b[1;31mKeyError\u001b[0m: 'my_topic'"
     ]
    }
   ],
   "source": [
    "produce_message('my_topic', 'Banana', 'Banana message')"
   ]
  },
  {
   "cell_type": "code",
   "execution_count": 4,
   "metadata": {},
   "outputs": [],
   "source": [
    "produce_message('my_topic', 'Apple', 'Apple message')"
   ]
  },
  {
   "cell_type": "code",
   "execution_count": 5,
   "metadata": {},
   "outputs": [
    {
     "name": "stdout",
     "output_type": "stream",
     "text": [
      "Message delivered to my_topic [2]\n",
      "Message delivered to my_topic [0]\n"
     ]
    },
    {
     "data": {
      "text/plain": [
       "0"
      ]
     },
     "execution_count": 5,
     "metadata": {},
     "output_type": "execute_result"
    }
   ],
   "source": [
    "producer.flush()\n"
   ]
  },
  {
   "cell_type": "code",
   "execution_count": null,
   "metadata": {},
   "outputs": [],
   "source": []
  }
 ],
 "metadata": {
  "kernelspec": {
   "display_name": "Python 3",
   "language": "python",
   "name": "python3"
  },
  "language_info": {
   "codemirror_mode": {
    "name": "ipython",
    "version": 3
   },
   "file_extension": ".py",
   "mimetype": "text/x-python",
   "name": "python",
   "nbconvert_exporter": "python",
   "pygments_lexer": "ipython3",
   "version": "3.8.10"
  }
 },
 "nbformat": 4,
 "nbformat_minor": 2
}
