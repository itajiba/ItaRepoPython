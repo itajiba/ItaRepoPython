{
 "cells": [
  {
   "cell_type": "code",
   "execution_count": 1,
   "metadata": {},
   "outputs": [],
   "source": [
    "from confluent_kafka import Producer, KafkaException\n",
    "import mmh3\n",
    "\n",
    "def banana_partitioner(key, partitions):\n",
    "    if key is None or not isinstance(key, str):\n",
    "        raise KafkaException(\"We expect all messages to have customer name as key\")\n",
    "\n",
    "    num_partitions = len(partitions)\n",
    "    if key == \"Banana\":\n",
    "        return partitions[-1]  # Banana will always go to the last partition\n",
    "\n",
    "    # Other records will get hashed to the rest of the partitions\n",
    "    return partitions[abs(mmh3.hash(key)) % (num_partitions - 1)]\n",
    "\n",
    "# Example usage\n",
    "conf = {\n",
    "    'bootstrap.servers': 'localhost:9092'\n",
    "}\n",
    "\n",
    "producer = Producer(conf)"
   ]
  },
  {
   "cell_type": "code",
   "execution_count": 2,
   "metadata": {},
   "outputs": [],
   "source": [
    "def delivery_report(err, msg):\n",
    "    if err is not None:\n",
    "        print('Message delivery failed: {}'.format(err))\n",
    "    else:\n",
    "        print('Message delivered to {} [{}]'.format(msg.topic(), msg.partition()))\n",
    "\n",
    "# Produce messages with custom partitioning logic\n",
    "def produce_message(topic, key, value):\n",
    "    partitions = producer.list_topics().topics[topic].partitions.keys()\n",
    "    partition = banana_partitioner(key, list(partitions))\n",
    "    producer.produce(topic, key=key, value=value, partition=partition, callback=delivery_report)"
   ]
  },
  {
   "cell_type": "code",
   "execution_count": 3,
   "metadata": {},
   "outputs": [],
   "source": [
    "produce_message('my_topic', 'Banana', 'Banana message')"
   ]
  },
  {
   "cell_type": "code",
   "execution_count": 4,
   "metadata": {},
   "outputs": [],
   "source": [
    "produce_message('my_topic', 'Apple', 'Apple message')"
   ]
  },
  {
   "cell_type": "code",
   "execution_count": 5,
   "metadata": {},
   "outputs": [
    {
     "name": "stdout",
     "output_type": "stream",
     "text": [
      "Message delivered to my_topic [2]\n",
      "Message delivered to my_topic [0]\n"
     ]
    },
    {
     "data": {
      "text/plain": [
       "0"
      ]
     },
     "execution_count": 5,
     "metadata": {},
     "output_type": "execute_result"
    }
   ],
   "source": [
    "producer.flush()\n"
   ]
  },
  {
   "cell_type": "code",
   "execution_count": null,
   "metadata": {},
   "outputs": [],
   "source": []
  }
 ],
 "metadata": {
  "kernelspec": {
   "display_name": "Python 3",
   "language": "python",
   "name": "python3"
  },
  "language_info": {
   "codemirror_mode": {
    "name": "ipython",
    "version": 3
   },
   "file_extension": ".py",
   "mimetype": "text/x-python",
   "name": "python",
   "nbconvert_exporter": "python",
   "pygments_lexer": "ipython3",
   "version": "3.8.10"
  }
 },
 "nbformat": 4,
 "nbformat_minor": 2
}
